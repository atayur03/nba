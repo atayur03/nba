{
 "cells": [
  {
   "cell_type": "code",
   "execution_count": 1,
   "metadata": {},
   "outputs": [],
   "source": [
    "import pandas as pd\n",
    "import numpy as np\n",
    "pd.set_option('display.max_rows', 300)"
   ]
  },
  {
   "cell_type": "code",
   "execution_count": 2,
   "metadata": {},
   "outputs": [],
   "source": [
    "lst = [2020, 2021, 2022, 2023, 2024]\n",
    "unit = 11"
   ]
  },
  {
   "cell_type": "code",
   "execution_count": 3,
   "metadata": {},
   "outputs": [],
   "source": [
    "dfs = []\n",
    "for i in range(len(lst) - 1):\n",
    "  dfs.append(pd.read_excel(f'csv/{lst[i]}-{lst[i+1]}_NBA_Box_Score_Team-Stats.xlsx'))"
   ]
  },
  {
   "cell_type": "code",
   "execution_count": 4,
   "metadata": {},
   "outputs": [],
   "source": [
    "dfs[-1] = dfs[-1].rename({'VENUE\\n(R/H/N)' : 'VENUE'}, axis=1)\n",
    "df = pd.concat(dfs)"
   ]
  },
  {
   "cell_type": "code",
   "execution_count": 5,
   "metadata": {},
   "outputs": [],
   "source": [
    "nba_teams = {\n",
    "    \"Brooklyn\": 1,\n",
    "    \"LA Lakers\": 2,\n",
    "    \"Boston\": 3,\n",
    "    \"Phoenix\": 4,\n",
    "    \"Cleveland\": 5,\n",
    "    \"Indiana\": 6,\n",
    "    \"Orlando\": 7,\n",
    "    \"Philadelphia\": 8,\n",
    "    \"Toronto\": 9,\n",
    "    \"Chicago\": 10,\n",
    "    \"Memphis\": 11,\n",
    "    \"Minnesota\": 12,\n",
    "    \"Denver\": 13,\n",
    "    \"Portland\": 14,\n",
    "    \"Miami\": 15,\n",
    "    \"Milwaukee\": 16,\n",
    "    \"Charlotte\": 17,\n",
    "    \"Detroit\": 18,\n",
    "    \"Washington\": 19,\n",
    "    \"New York\": 20,\n",
    "    \"San Antonio\": 21,\n",
    "    \"Utah\": 22,\n",
    "    \"Sacramento\": 23,\n",
    "    \"LA Clippers\": 24,\n",
    "    \"New Orleans\": 25,\n",
    "    \"Atlanta\": 26,\n",
    "    \"Oklahoma City\": 27,\n",
    "    \"Dallas\": 28,\n",
    "    \"Houston\": 29,\n",
    "    \"Golden State\": 30\n",
    "}"
   ]
  },
  {
   "cell_type": "markdown",
   "metadata": {},
   "source": []
  },
  {
   "cell_type": "code",
   "execution_count": null,
   "metadata": {},
   "outputs": [],
   "source": []
  },
  {
   "cell_type": "code",
   "execution_count": 7,
   "metadata": {},
   "outputs": [],
   "source": [
    "df['type'] = df['BIGDATABALL\\nDATASET'].apply(lambda x: x.split()[2])"
   ]
  },
  {
   "cell_type": "code",
   "execution_count": 8,
   "metadata": {},
   "outputs": [],
   "source": [
    "reg = df[df['type'] == 'Regular']"
   ]
  },
  {
   "cell_type": "code",
   "execution_count": 9,
   "metadata": {},
   "outputs": [
    {
     "data": {
      "text/plain": [
       "0           Andrew Wiggins\n",
       "1               Joe Harris\n",
       "2            Kawhi Leonard\n",
       "3             LeBron James\n",
       "4          Khris Middleton\n",
       "               ...        \n",
       "2457        Brandon Ingram\n",
       "2458         Grayson Allen\n",
       "2459       Jaden McDaniels\n",
       "2460    Michael Porter Jr.\n",
       "2461            GG Jackson\n",
       "Name: STARTING LINEUPS, Length: 9408, dtype: object"
      ]
     },
     "execution_count": 9,
     "metadata": {},
     "output_type": "execute_result"
    }
   ],
   "source": [
    "reg['STARTING LINEUPS']"
   ]
  },
  {
   "cell_type": "code",
   "execution_count": null,
   "metadata": {},
   "outputs": [],
   "source": []
  },
  {
   "cell_type": "code",
   "execution_count": 11,
   "metadata": {},
   "outputs": [],
   "source": [
    "game_metadata = ['BIGDATABALL\\nDATASET', 'GAME-ID', 'DATE', 'TEAM', 'VENUE']\n",
    "game_stats = ['F', 'MIN', 'FG', 'FGA', '3P', '3PA', 'FT', 'FTA', 'OR', 'DR', 'TOT', 'A', 'PF', 'ST', 'TO', 'BL', 'PTS', 'POSS', 'PACE', 'OEFF', 'DEFF']\n",
    "game_stats_avg = [x + '_mean' for x in game_stats]\n",
    "starters = ['STARTING LINEUPS', 'Unnamed: 38', 'Unnamed: 39', 'Unnamed: 40', 'Unnamed: 41']"
   ]
  },
  {
   "cell_type": "code",
   "execution_count": 12,
   "metadata": {},
   "outputs": [],
   "source": [
    "data = reg[game_metadata + game_stats + starters]"
   ]
  },
  {
   "cell_type": "code",
   "execution_count": 13,
   "metadata": {},
   "outputs": [],
   "source": [
    "aggs = data.set_index('GAME-ID').groupby(['BIGDATABALL\\nDATASET', 'TEAM'])[game_stats].expanding().mean().rename(lambda x: x+ \"_mean\", axis=1).groupby(['BIGDATABALL\\nDATASET', 'TEAM']).shift(1).reset_index()"
   ]
  },
  {
   "cell_type": "code",
   "execution_count": null,
   "metadata": {},
   "outputs": [],
   "source": []
  },
  {
   "cell_type": "code",
   "execution_count": null,
   "metadata": {},
   "outputs": [],
   "source": []
  },
  {
   "cell_type": "code",
   "execution_count": 14,
   "metadata": {},
   "outputs": [],
   "source": [
    "final = pd.merge(data, aggs, on = ['BIGDATABALL\\nDATASET', 'TEAM', 'GAME-ID'])"
   ]
  },
  {
   "cell_type": "code",
   "execution_count": 15,
   "metadata": {},
   "outputs": [],
   "source": [
    "totals = data.groupby('GAME-ID').sum()['PTS'].reset_index().rename({'PTS':'y'}, axis=1)"
   ]
  },
  {
   "cell_type": "code",
   "execution_count": 16,
   "metadata": {},
   "outputs": [],
   "source": [
    "final = pd.merge(final, totals, on = 'GAME-ID')"
   ]
  },
  {
   "cell_type": "code",
   "execution_count": 17,
   "metadata": {},
   "outputs": [],
   "source": [
    "x_vars = game_metadata + game_stats_avg"
   ]
  },
  {
   "cell_type": "code",
   "execution_count": null,
   "metadata": {},
   "outputs": [],
   "source": []
  },
  {
   "cell_type": "code",
   "execution_count": 19,
   "metadata": {},
   "outputs": [],
   "source": [
    "games = pd.merge(final[final.VENUE == 'H'][x_vars + ['y']], final[final.VENUE == 'R'][x_vars + ['y']], on=['BIGDATABALL\\nDATASET', 'DATE', 'GAME-ID', 'y'])"
   ]
  },
  {
   "cell_type": "code",
   "execution_count": 20,
   "metadata": {},
   "outputs": [],
   "source": [
    "games = games.rename({'BIGDATABALL\\nDATASET': 'Season'}, axis=1)"
   ]
  },
  {
   "cell_type": "code",
   "execution_count": 21,
   "metadata": {},
   "outputs": [],
   "source": [
    "final_x_vars = list(set(games.columns.to_list()) - set(['DATE', 'y']))"
   ]
  },
  {
   "cell_type": "code",
   "execution_count": null,
   "metadata": {},
   "outputs": [],
   "source": []
  },
  {
   "cell_type": "code",
   "execution_count": 22,
   "metadata": {},
   "outputs": [],
   "source": [
    "import lightgbm as lgb"
   ]
  },
  {
   "cell_type": "code",
   "execution_count": null,
   "metadata": {},
   "outputs": [],
   "source": []
  },
  {
   "cell_type": "code",
   "execution_count": 23,
   "metadata": {},
   "outputs": [],
   "source": [
    "games['Season'] = games['Season'].apply(lambda x: int(x.split()[1].split('-')[0]))"
   ]
  },
  {
   "cell_type": "code",
   "execution_count": 24,
   "metadata": {},
   "outputs": [],
   "source": [
    "games['TEAM_x'] = games['TEAM_x'].apply(lambda x: nba_teams[x])\n",
    "games['TEAM_y'] = games['TEAM_y'].apply(lambda x: nba_teams[x])"
   ]
  },
  {
   "cell_type": "code",
   "execution_count": 25,
   "metadata": {},
   "outputs": [],
   "source": [
    "games['VENUE_x'] = games['TEAM_x']\n",
    "games['VENUE_y'] = games['TEAM_x']"
   ]
  },
  {
   "cell_type": "code",
   "execution_count": 26,
   "metadata": {},
   "outputs": [],
   "source": [
    "games['DATE'] = games.DATE.apply(lambda x: int(int(x.split('/')[2]) * 1e4 + int(x.split('/')[0]) * 1e2 + int(x.split('/')[1])))"
   ]
  },
  {
   "cell_type": "code",
   "execution_count": null,
   "metadata": {},
   "outputs": [],
   "source": []
  },
  {
   "cell_type": "code",
   "execution_count": 28,
   "metadata": {},
   "outputs": [],
   "source": [
    "train = games[games['Season'] != 2023]"
   ]
  },
  {
   "cell_type": "code",
   "execution_count": 29,
   "metadata": {},
   "outputs": [],
   "source": [
    "test = games[games['Season'] == 2023]"
   ]
  },
  {
   "cell_type": "code",
   "execution_count": 30,
   "metadata": {},
   "outputs": [],
   "source": [
    "train_data = lgb.Dataset(train[final_x_vars], label = train['y'])"
   ]
  },
  {
   "cell_type": "code",
   "execution_count": 31,
   "metadata": {},
   "outputs": [],
   "source": [
    "test_data = lgb.Dataset(test[final_x_vars], label = test['y'])"
   ]
  },
  {
   "cell_type": "code",
   "execution_count": 106,
   "metadata": {},
   "outputs": [
    {
     "name": "stdout",
     "output_type": "stream",
     "text": [
      "[LightGBM] [Info] Total Bins 11072\n",
      "[LightGBM] [Info] Number of data points in the train set: 3540, number of used features: 48\n",
      "[LightGBM] [Info] Start training from score 224.960169\n"
     ]
    }
   ],
   "source": [
    "params = {\n",
    "    \"objective\": \"regression\",\n",
    "    \"boosting_type\": \"rf\",\n",
    "    \"num_leaves\": 15,\n",
    "    \"force_row_wise\": True,\n",
    "    \"learning_rate\": 0.1,\n",
    "    \"bagging_fraction\": 0.9,\n",
    "    \"feature_fraction\": 0.5\n",
    "}\n",
    "# Train the LightGBM model\n",
    "num_round = 100\n",
    "bst = lgb.train(params, train_data, num_round)"
   ]
  },
  {
   "cell_type": "code",
   "execution_count": 107,
   "metadata": {},
   "outputs": [],
   "source": [
    "lines = pd.merge(test, reg[['GAME-ID', 'OPENING TOTAL']].drop_duplicates(), on = 'GAME-ID')"
   ]
  },
  {
   "cell_type": "code",
   "execution_count": 108,
   "metadata": {},
   "outputs": [],
   "source": [
    "lines['pred'] = pd.Series(bst.predict(test[final_x_vars]))"
   ]
  },
  {
   "cell_type": "code",
   "execution_count": 109,
   "metadata": {},
   "outputs": [],
   "source": [
    "preds = lines[['DATE', 'y', 'OPENING TOTAL', 'pred']]"
   ]
  },
  {
   "cell_type": "code",
   "execution_count": 110,
   "metadata": {},
   "outputs": [
    {
     "name": "stderr",
     "output_type": "stream",
     "text": [
      "/var/folders/kd/kpwj_zw52bjbbtxgq2psc1080000gn/T/ipykernel_52259/1577859951.py:1: SettingWithCopyWarning: \n",
      "A value is trying to be set on a copy of a slice from a DataFrame.\n",
      "Try using .loc[row_indexer,col_indexer] = value instead\n",
      "\n",
      "See the caveats in the documentation: https://pandas.pydata.org/pandas-docs/stable/user_guide/indexing.html#returning-a-view-versus-a-copy\n",
      "  preds['OU'] = np.sign(preds.pred - preds['OPENING TOTAL'])\n"
     ]
    }
   ],
   "source": [
    "preds['OU'] = np.sign(preds.pred - preds['OPENING TOTAL'])"
   ]
  },
  {
   "cell_type": "code",
   "execution_count": 111,
   "metadata": {},
   "outputs": [
    {
     "name": "stderr",
     "output_type": "stream",
     "text": [
      "/var/folders/kd/kpwj_zw52bjbbtxgq2psc1080000gn/T/ipykernel_52259/2002246133.py:1: SettingWithCopyWarning: \n",
      "A value is trying to be set on a copy of a slice from a DataFrame.\n",
      "Try using .loc[row_indexer,col_indexer] = value instead\n",
      "\n",
      "See the caveats in the documentation: https://pandas.pydata.org/pandas-docs/stable/user_guide/indexing.html#returning-a-view-versus-a-copy\n",
      "  preds['Outcome'] = np.sign(preds.y - preds['OPENING TOTAL'])\n"
     ]
    }
   ],
   "source": [
    "preds['Outcome'] = np.sign(preds.y - preds['OPENING TOTAL'])"
   ]
  },
  {
   "cell_type": "code",
   "execution_count": 112,
   "metadata": {},
   "outputs": [
    {
     "data": {
      "text/plain": [
       "True     605\n",
       "False    557\n",
       "Name: count, dtype: int64"
      ]
     },
     "execution_count": 112,
     "metadata": {},
     "output_type": "execute_result"
    }
   ],
   "source": [
    "(preds.OU == preds.Outcome).value_counts()"
   ]
  },
  {
   "cell_type": "code",
   "execution_count": 113,
   "metadata": {},
   "outputs": [
    {
     "data": {
      "text/plain": [
       "0.5206540447504303"
      ]
     },
     "execution_count": 113,
     "metadata": {},
     "output_type": "execute_result"
    }
   ],
   "source": [
    "(preds.OU == preds.Outcome).value_counts().loc[True] / preds.shape[0]"
   ]
  },
  {
   "cell_type": "code",
   "execution_count": 114,
   "metadata": {},
   "outputs": [
    {
     "data": {
      "text/plain": [
       "-0.0031554790590935244"
      ]
     },
     "execution_count": 114,
     "metadata": {},
     "output_type": "execute_result"
    }
   ],
   "source": [
    "(preds.OU == preds.Outcome).value_counts().loc[True] / preds.shape[0] - 11/21"
   ]
  },
  {
   "cell_type": "code",
   "execution_count": 115,
   "metadata": {},
   "outputs": [
    {
     "data": {
      "text/html": [
       "<div>\n",
       "<style scoped>\n",
       "    .dataframe tbody tr th:only-of-type {\n",
       "        vertical-align: middle;\n",
       "    }\n",
       "\n",
       "    .dataframe tbody tr th {\n",
       "        vertical-align: top;\n",
       "    }\n",
       "\n",
       "    .dataframe thead th {\n",
       "        text-align: right;\n",
       "    }\n",
       "</style>\n",
       "<table border=\"1\" class=\"dataframe\">\n",
       "  <thead>\n",
       "    <tr style=\"text-align: right;\">\n",
       "      <th></th>\n",
       "      <th>DATE</th>\n",
       "      <th>y</th>\n",
       "      <th>OPENING TOTAL</th>\n",
       "      <th>pred</th>\n",
       "      <th>OU</th>\n",
       "      <th>Outcome</th>\n",
       "    </tr>\n",
       "  </thead>\n",
       "  <tbody>\n",
       "    <tr>\n",
       "      <th>DATE</th>\n",
       "      <td>1.000000</td>\n",
       "      <td>-0.102662</td>\n",
       "      <td>-0.074140</td>\n",
       "      <td>0.181065</td>\n",
       "      <td>0.146857</td>\n",
       "      <td>-0.087152</td>\n",
       "    </tr>\n",
       "    <tr>\n",
       "      <th>y</th>\n",
       "      <td>-0.102662</td>\n",
       "      <td>1.000000</td>\n",
       "      <td>0.444879</td>\n",
       "      <td>0.314991</td>\n",
       "      <td>-0.332679</td>\n",
       "      <td>0.690779</td>\n",
       "    </tr>\n",
       "    <tr>\n",
       "      <th>OPENING TOTAL</th>\n",
       "      <td>-0.074140</td>\n",
       "      <td>0.444879</td>\n",
       "      <td>1.000000</td>\n",
       "      <td>0.615085</td>\n",
       "      <td>-0.729708</td>\n",
       "      <td>-0.057761</td>\n",
       "    </tr>\n",
       "    <tr>\n",
       "      <th>pred</th>\n",
       "      <td>0.181065</td>\n",
       "      <td>0.314991</td>\n",
       "      <td>0.615085</td>\n",
       "      <td>1.000000</td>\n",
       "      <td>-0.186069</td>\n",
       "      <td>-0.014569</td>\n",
       "    </tr>\n",
       "    <tr>\n",
       "      <th>OU</th>\n",
       "      <td>0.146857</td>\n",
       "      <td>-0.332679</td>\n",
       "      <td>-0.729708</td>\n",
       "      <td>-0.186069</td>\n",
       "      <td>1.000000</td>\n",
       "      <td>0.042964</td>\n",
       "    </tr>\n",
       "    <tr>\n",
       "      <th>Outcome</th>\n",
       "      <td>-0.087152</td>\n",
       "      <td>0.690779</td>\n",
       "      <td>-0.057761</td>\n",
       "      <td>-0.014569</td>\n",
       "      <td>0.042964</td>\n",
       "      <td>1.000000</td>\n",
       "    </tr>\n",
       "  </tbody>\n",
       "</table>\n",
       "</div>"
      ],
      "text/plain": [
       "                   DATE         y  OPENING TOTAL      pred        OU   Outcome\n",
       "DATE           1.000000 -0.102662      -0.074140  0.181065  0.146857 -0.087152\n",
       "y             -0.102662  1.000000       0.444879  0.314991 -0.332679  0.690779\n",
       "OPENING TOTAL -0.074140  0.444879       1.000000  0.615085 -0.729708 -0.057761\n",
       "pred           0.181065  0.314991       0.615085  1.000000 -0.186069 -0.014569\n",
       "OU             0.146857 -0.332679      -0.729708 -0.186069  1.000000  0.042964\n",
       "Outcome       -0.087152  0.690779      -0.057761 -0.014569  0.042964  1.000000"
      ]
     },
     "execution_count": 115,
     "metadata": {},
     "output_type": "execute_result"
    }
   ],
   "source": [
    "preds.corr()"
   ]
  },
  {
   "cell_type": "code",
   "execution_count": 116,
   "metadata": {},
   "outputs": [
    {
     "name": "stderr",
     "output_type": "stream",
     "text": [
      "/var/folders/kd/kpwj_zw52bjbbtxgq2psc1080000gn/T/ipykernel_52259/1270250952.py:1: SettingWithCopyWarning: \n",
      "A value is trying to be set on a copy of a slice from a DataFrame.\n",
      "Try using .loc[row_indexer,col_indexer] = value instead\n",
      "\n",
      "See the caveats in the documentation: https://pandas.pydata.org/pandas-docs/stable/user_guide/indexing.html#returning-a-view-versus-a-copy\n",
      "  preds['DATE'] = pd.to_datetime(preds['DATE'].apply(str), format = \"%Y%m%d\")\n"
     ]
    }
   ],
   "source": [
    "preds['DATE'] = pd.to_datetime(preds['DATE'].apply(str), format = \"%Y%m%d\") "
   ]
  },
  {
   "cell_type": "code",
   "execution_count": 117,
   "metadata": {},
   "outputs": [
    {
     "name": "stderr",
     "output_type": "stream",
     "text": [
      "/var/folders/kd/kpwj_zw52bjbbtxgq2psc1080000gn/T/ipykernel_52259/135542864.py:1: SettingWithCopyWarning: \n",
      "A value is trying to be set on a copy of a slice from a DataFrame.\n",
      "Try using .loc[row_indexer,col_indexer] = value instead\n",
      "\n",
      "See the caveats in the documentation: https://pandas.pydata.org/pandas-docs/stable/user_guide/indexing.html#returning-a-view-versus-a-copy\n",
      "  preds['pnl'] = np.where(preds.OU == preds.Outcome, unit * 10/11, -unit)\n"
     ]
    }
   ],
   "source": [
    "preds['pnl'] = np.where(preds.OU == preds.Outcome, unit * 10/11, -unit)"
   ]
  },
  {
   "cell_type": "code",
   "execution_count": 118,
   "metadata": {},
   "outputs": [
    {
     "name": "stderr",
     "output_type": "stream",
     "text": [
      "/var/folders/kd/kpwj_zw52bjbbtxgq2psc1080000gn/T/ipykernel_52259/2614251419.py:1: SettingWithCopyWarning: \n",
      "A value is trying to be set on a copy of a slice from a DataFrame.\n",
      "Try using .loc[row_indexer,col_indexer] = value instead\n",
      "\n",
      "See the caveats in the documentation: https://pandas.pydata.org/pandas-docs/stable/user_guide/indexing.html#returning-a-view-versus-a-copy\n",
      "  preds['correct'] = preds.OU * preds.Outcome\n"
     ]
    }
   ],
   "source": [
    "preds['correct'] = preds.OU * preds.Outcome"
   ]
  },
  {
   "cell_type": "code",
   "execution_count": 119,
   "metadata": {},
   "outputs": [
    {
     "data": {
      "text/plain": [
       "<Axes: xlabel='DATE'>"
      ]
     },
     "execution_count": 119,
     "metadata": {},
     "output_type": "execute_result"
    },
    {
     "data": {
      "image/png": "[encoded data removed]",
      "text/plain": [
       "<Figure size 640x480 with 1 Axes>"
      ]
     },
     "metadata": {},
     "output_type": "display_data"
    }
   ],
   "source": [
    "preds.groupby('DATE').pnl.sum().cumsum().plot()"
   ]
  },
  {
   "cell_type": "code",
   "execution_count": null,
   "metadata": {},
   "outputs": [],
   "source": []
  },
  {
   "cell_type": "code",
   "execution_count": null,
   "metadata": {},
   "outputs": [],
   "source": []
  },
  {
   "cell_type": "code",
   "execution_count": null,
   "metadata": {},
   "outputs": [],
   "source": []
  }
 ],
 "metadata": {
  "kernelspec": {
   "display_name": "Python 3",
   "language": "python",
   "name": "python3"
  },
  "language_info": {
   "codemirror_mode": {
    "name": "ipython",
    "version": 3
   },
   "file_extension": ".py",
   "mimetype": "text/x-python",
   "name": "python",
   "nbconvert_exporter": "python",
   "pygments_lexer": "ipython3",
   "version": "3.9.6"
  }
 },
 "nbformat": 4,
 "nbformat_minor": 2
}
